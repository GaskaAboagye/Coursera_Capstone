{
 "cells": [
  {
   "cell_type": "markdown",
   "metadata": {},
   "source": [
    "# The Battle of the Neighborhoods - Week 1"
   ]
  },
  {
   "cell_type": "markdown",
   "metadata": {},
   "source": [
    "## Introduction"
   ]
  },
  {
   "cell_type": "markdown",
   "metadata": {},
   "source": [
    "### Problem Background:"
   ]
  },
  {
   "cell_type": "markdown",
   "metadata": {},
   "source": [
    "Chicago had a murder rate of 18.5 per 100,000 residents in 2012, ranking 16th among US cities with 100,000 people or more. This was higher than in New York City and Los Angeles, the two largest cities in the United States, which have lower murder rates and lower total homicides. However, it was less than in many smaller American cities, including New Orleans, Newark, and Detroit, which had 53 murders per 100,000 residents in 2012. The 2015 year-end crime statistics showed there were 468 murders in Chicago in 2015 compared with 416 the year before, a 12.5% increase, as well as 2,900 shootings—13% more than the year prior, and up 29% since 2013. Chicago had more homicides than any other city in 2015 in total but not on per capita basis, according to the Chicago Tribune.In its annual crime statistics for 2016, the Chicago Police Department reported that the city experienced a dramatic rise in gun violence, with 4,331 shooting victims. The department also reported 762 murders in Chicago for the year 2016, a total that marked a 62.79% increase in homicides from 2015. In June 2017, the Chicago Police Department and the Federal ATF announced a new task force, similar to past task forces, to address the flow of illegal guns and repeat offenses with guns.\n",
    "\n",
    "According to reports in 2013, \"most of Chicago's violent crime comes from gangs trying to maintain control of drug-selling territories\", and is specifically related to the activities of the Sinaloa Cartel, which is active in several American cities. By 2006, the cartel sought to control most illicit drug sells. Violent crime rates vary significantly by area of the city, with more economically developed areas having low rates, but other sections have much higher rates of crime. In 2013, the violent crime rate was 910 per 100,000 people; the murder rate was 10.4 – while high crime districts saw 38.9, low crime districts saw 2.5 murders per 100,000.\n",
    "\n",
    "(с) wikipedia - https://en.wikipedia.org/wiki/Chicago#Crime"
   ]
  },
  {
   "cell_type": "markdown",
   "metadata": {},
   "source": [
    "### Problem Description:"
   ]
  },
  {
   "cell_type": "markdown",
   "metadata": {},
   "source": [
    "The life in Chicago is like russian roulette. And the main qustion is:\n",
    "\n",
    "<b>How citizens or immigrants can survive in this city?</b>\n",
    "\n",
    "The first thing that comes to mind is to choose most safe area to live.\n",
    "I will work in that way, I should go through the crime statistic and try to give you answers on these questions:\n",
    "\n",
    "1. What would be the most safe area in city of Chicago in 2020?\n",
    "2. Which area is better regarding its residential infrastructure?\n",
    "\n",
    "<i><b>Residential infrastructure</b> refers to public services and facilities necessary to support residential development including sewer and water lines, waste water treatment plants, waterworks, schools, parks, streets, street lights, and storm water management facilities.</i>\n",
    "\n",
    "By residential infrastructure, <b>important for family life</b>, we will mean the presence of medical institutions (hospitals, clinics and other) and educational institutions (schools, universities and other)"
   ]
  },
  {
   "cell_type": "markdown",
   "metadata": {},
   "source": [
    "### Target Audience:"
   ]
  },
  {
   "cell_type": "markdown",
   "metadata": {},
   "source": [
    "Point 1. \n",
    "Citizens who wants to buy a new flat in safe for their lives area.\n",
    "Immigrants.\n",
    "\n",
    "Point 2. \n",
    "Small or middle business whose main auditory is in the first point. For example it could be companies like: restaurants, cafe, market shops, gyms and others."
   ]
  },
  {
   "cell_type": "markdown",
   "metadata": {},
   "source": [
    "### Success Criteria:"
   ]
  },
  {
   "cell_type": "markdown",
   "metadata": {},
   "source": [
    "The success criteria of the project will be a recommendation of most safe area in Chicago in 2020 year."
   ]
  }
 ],
 "metadata": {
  "kernelspec": {
   "display_name": "Python 3",
   "language": "python",
   "name": "python3"
  },
  "language_info": {
   "codemirror_mode": {
    "name": "ipython",
    "version": 3
   },
   "file_extension": ".py",
   "mimetype": "text/x-python",
   "name": "python",
   "nbconvert_exporter": "python",
   "pygments_lexer": "ipython3",
   "version": "3.7.3"
  }
 },
 "nbformat": 4,
 "nbformat_minor": 4
}
