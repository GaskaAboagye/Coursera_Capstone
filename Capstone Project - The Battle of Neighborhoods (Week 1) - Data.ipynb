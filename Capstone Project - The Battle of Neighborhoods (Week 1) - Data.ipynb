{
 "cells": [
  {
   "cell_type": "markdown",
   "metadata": {},
   "source": [
    "# The Battle of the Neighborhoods - Week 1"
   ]
  },
  {
   "cell_type": "markdown",
   "metadata": {},
   "source": [
    "## Data"
   ]
  },
  {
   "cell_type": "markdown",
   "metadata": {},
   "source": [
    "<b>Country:</b> USA<br />\n",
    "<b>State:</b> Illinois<br />\n",
    "<b>City :</b> Chicago\n",
    "\n",
    "<b>Population:</b> 2.74936 Million<br />\n",
    "<b>Number of community arreas:</b> 77"
   ]
  },
  {
   "cell_type": "markdown",
   "metadata": {},
   "source": [
    "### For our analyzing we will be using below datasets:"
   ]
  },
  {
   "cell_type": "markdown",
   "metadata": {},
   "source": [
    "<b>Data 1:</b> Crime statistic. It is large (about 7 millions rows)  dataset that consist of all kinds of crime since 2001 year till our days.<br />\n",
    "You can find it on the Chicagos public web site: https://data.cityofchicago.org/Public-Safety/Crimes-2001-to-present/ijzp-q8t2\n"
   ]
  },
  {
   "cell_type": "code",
   "execution_count": 5,
   "metadata": {},
   "outputs": [
    {
     "data": {
      "text/html": [
       "<div><p style=\"margin-bottom:3px\"><a href=\"https://data.cityofchicago.org/Public-Safety/Crimes-2001-to-present/ijzp-q8t2\" target=\"_blank\" style=\"font-size:12px;font-weight:bold;text-decoration:none;color:#333333;font-family:arial;\">Crimes - 2001 to present</a></p><iframe width=\"1000px\" title=\"Crimes - 2001 to present\" height=\"200px\" src=\"https://data.cityofchicago.org/w/ijzp-q8t2/3q3f-6823?cur=JFYZvgpVbRW&from=root\" frameborder=\"0\"scrolling=\"no\"><a href=\"https://data.cityofchicago.org/Public-Safety/Crimes-2001-to-present/ijzp-q8t2\" title=\"Crimes - 2001 to present\" target=\"_blank\">Crimes - 2001 to present</a></iframe><p><a href=\"http://www.socrata.com/\" target=\"_blank\">Powered by Socrata</a></p></div>  \n"
      ],
      "text/plain": [
       "<IPython.core.display.HTML object>"
      ]
     },
     "metadata": {},
     "output_type": "display_data"
    }
   ],
   "source": [
    "%%html\n",
    "<div><p style=\"margin-bottom:3px\"><a href=\"https://data.cityofchicago.org/Public-Safety/Crimes-2001-to-present/ijzp-q8t2\" target=\"_blank\" style=\"font-size:12px;font-weight:bold;text-decoration:none;color:#333333;font-family:arial;\">Crimes - 2001 to present</a></p><iframe width=\"1000px\" title=\"Crimes - 2001 to present\" height=\"200px\" src=\"https://data.cityofchicago.org/w/ijzp-q8t2/3q3f-6823?cur=JFYZvgpVbRW&from=root\" frameborder=\"0\"scrolling=\"no\"><a href=\"https://data.cityofchicago.org/Public-Safety/Crimes-2001-to-present/ijzp-q8t2\" title=\"Crimes - 2001 to present\" target=\"_blank\">Crimes - 2001 to present</a></iframe><p><a href=\"http://www.socrata.com/\" target=\"_blank\">Powered by Socrata</a></p></div>  \n"
   ]
  },
  {
   "cell_type": "markdown",
   "metadata": {},
   "source": [
    "<b>Data 2:</b> Geo data and List of Community Areas. This datasets consist consist of 77 community areas, geodata and their names.<br />\n",
    "You can find it on the Chicagos public web site: https://data.cityofchicago.org/Facilities-Geographic-Boundaries/Boundaries-Community-Areas-current-/cauq-8yn6"
   ]
  },
  {
   "cell_type": "code",
   "execution_count": 6,
   "metadata": {},
   "outputs": [
    {
     "data": {
      "text/html": [
       "<div><p style=\"margin-bottom:3px\"><a href=\"https://data.cityofchicago.org/Facilities-Geographic-Boundaries/Boundaries-Community-Areas-current-/cauq-8yn6\" target=\"_blank\" style=\"font-size:12px;font-weight:bold;text-decoration:none;color:#333333;font-family:arial;\">Boundaries - Community Areas (current)</a></p><iframe width=\"500px\" title=\"Boundaries - Community Areas (current)\" height=\"425px\" src=\"https://data.cityofchicago.org/w/cauq-8yn6/3q3f-6823?cur=HLOSM_XVWbb&from=root\" frameborder=\"0\"scrolling=\"no\"><a href=\"https://data.cityofchicago.org/Facilities-Geographic-Boundaries/Boundaries-Community-Areas-current-/cauq-8yn6\" title=\"Boundaries - Community Areas (current)\" target=\"_blank\">Boundaries - Community Areas (current)</a></iframe><p><a href=\"http://www.socrata.com/\" target=\"_blank\">Powered by Socrata</a></p></div>\n"
      ],
      "text/plain": [
       "<IPython.core.display.HTML object>"
      ]
     },
     "metadata": {},
     "output_type": "display_data"
    }
   ],
   "source": [
    "%%html      \n",
    "<div><p style=\"margin-bottom:3px\"><a href=\"https://data.cityofchicago.org/Facilities-Geographic-Boundaries/Boundaries-Community-Areas-current-/cauq-8yn6\" target=\"_blank\" style=\"font-size:12px;font-weight:bold;text-decoration:none;color:#333333;font-family:arial;\">Boundaries - Community Areas (current)</a></p><iframe width=\"500px\" title=\"Boundaries - Community Areas (current)\" height=\"425px\" src=\"https://data.cityofchicago.org/w/cauq-8yn6/3q3f-6823?cur=HLOSM_XVWbb&from=root\" frameborder=\"0\"scrolling=\"no\"><a href=\"https://data.cityofchicago.org/Facilities-Geographic-Boundaries/Boundaries-Community-Areas-current-/cauq-8yn6\" title=\"Boundaries - Community Areas (current)\" target=\"_blank\">Boundaries - Community Areas (current)</a></iframe><p><a href=\"http://www.socrata.com/\" target=\"_blank\">Powered by Socrata</a></p></div>\n"
   ]
  },
  {
   "cell_type": "markdown",
   "metadata": {},
   "source": [
    "<b>Data 3:</b> Geo data from Foursquare API to explore favorable community areas in the city of Chicago!<br />\n",
    "To learn more about Foursquare go by link: https://api.foursquare.com"
   ]
  },
  {
   "cell_type": "code",
   "execution_count": 7,
   "metadata": {},
   "outputs": [
    {
     "data": {
      "text/html": [
       "<style type=\"text/css\">\n",
       ".tg  {border-collapse:collapse;border-spacing:0;}\n",
       ".tg td{font-family:Arial, sans-serif;font-size:14px;padding:10px 5px;border-style:solid;border-width:1px;overflow:hidden;word-break:normal;border-color:black;}\n",
       ".tg th{font-family:Arial, sans-serif;font-size:14px;font-weight:normal;padding:10px 5px;border-style:solid;border-width:1px;overflow:hidden;word-break:normal;border-color:black;}\n",
       ".tg .tg-0lax{text-align:left;vertical-align:top}\n",
       "</style>\n",
       "<table class=\"tg\">\n",
       "  <tr>\n",
       "    <th class=\"tg-0lax\">Community</th>\n",
       "    <th class=\"tg-0lax\">Vanue</th>\n",
       "    <th class=\"tg-0lax\">Latitude</th>\n",
       "    <th class=\"tg-0lax\">Longitude</th>\n",
       "  </tr>\n",
       "  <tr>\n",
       "    <td class=\"tg-0lax\">EDISON PARK</td>\n",
       "    <td class=\"tg-0lax\">Ebinger Elementary School</td>\n",
       "    <td class=\"tg-0lax\">42.004665171922326</td>\n",
       "    <td class=\"tg-0lax\">-87.81028328116595</td>\n",
       "  </tr>\n",
       "</table>\n"
      ],
      "text/plain": [
       "<IPython.core.display.HTML object>"
      ]
     },
     "metadata": {},
     "output_type": "display_data"
    }
   ],
   "source": [
    "%%html \n",
    "<style type=\"text/css\">\n",
    ".tg  {border-collapse:collapse;border-spacing:0;}\n",
    ".tg td{font-family:Arial, sans-serif;font-size:14px;padding:10px 5px;border-style:solid;border-width:1px;overflow:hidden;word-break:normal;border-color:black;}\n",
    ".tg th{font-family:Arial, sans-serif;font-size:14px;font-weight:normal;padding:10px 5px;border-style:solid;border-width:1px;overflow:hidden;word-break:normal;border-color:black;}\n",
    ".tg .tg-0lax{text-align:left;vertical-align:top}\n",
    "</style>\n",
    "<table class=\"tg\">\n",
    "  <tr>\n",
    "    <th class=\"tg-0lax\">Community</th>\n",
    "    <th class=\"tg-0lax\">Vanue</th>\n",
    "    <th class=\"tg-0lax\">Latitude</th>\n",
    "    <th class=\"tg-0lax\">Longitude</th>\n",
    "  </tr>\n",
    "  <tr>\n",
    "    <td class=\"tg-0lax\">EDISON PARK</td>\n",
    "    <td class=\"tg-0lax\">Ebinger Elementary School</td>\n",
    "    <td class=\"tg-0lax\">42.004665171922326</td>\n",
    "    <td class=\"tg-0lax\">-87.81028328116595</td>\n",
    "  </tr>\n",
    "</table>"
   ]
  }
 ],
 "metadata": {
  "kernelspec": {
   "display_name": "Python 3",
   "language": "python",
   "name": "python3"
  },
  "language_info": {
   "codemirror_mode": {
    "name": "ipython",
    "version": 3
   },
   "file_extension": ".py",
   "mimetype": "text/x-python",
   "name": "python",
   "nbconvert_exporter": "python",
   "pygments_lexer": "ipython3",
   "version": "3.7.3"
  }
 },
 "nbformat": 4,
 "nbformat_minor": 4
}
